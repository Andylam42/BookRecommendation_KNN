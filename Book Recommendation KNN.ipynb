{
 "cells": [
  {
   "cell_type": "markdown",
   "id": "b1d25d0f",
   "metadata": {},
   "source": [
    "# Data Cleansing and Engineering"
   ]
  },
  {
   "cell_type": "markdown",
   "id": "27387963",
   "metadata": {},
   "source": [
    "To handle this task, first thing we have to do is to  build pipelines that transform and transport data into a format that is usable for data analysis.\n",
    "There are some problem in the dataset that have to be tackle:\n",
    "\n",
    "- Values in CSV seperated by semicolons, instead of comma.\n",
    "- Lines that will throw errors when importing with Pandas. (More fields than expected)\n",
    "\n",
    "These errors are being handled when importing the data."
   ]
  },
  {
   "cell_type": "code",
   "execution_count": 27,
   "id": "e140ed50",
   "metadata": {},
   "outputs": [],
   "source": [
    "import numpy as np\n",
    "import pandas as pd\n",
    "import warnings\n",
    "\n",
    "warnings.filterwarnings('ignore')\n",
    "\n",
    "def read_csv(file):\n",
    "    df = pd.read_csv(file, sep=';', encoding=\"latin-1\", error_bad_lines=False, warn_bad_lines=False, low_memory=False)\n",
    "    return df\n",
    "\n",
    "books = read_csv(\"BX-Books.csv\")\n",
    "users = read_csv(\"BX-Users.csv\")\n",
    "ratings = read_csv(\"BX-Book-Ratings.csv\")"
   ]
  },
  {
   "cell_type": "markdown",
   "id": "8e15a27a",
   "metadata": {},
   "source": [
    "Below block will make the header to have a more readable format.\n",
    "\n",
    "The first few lines are shown for each csv file."
   ]
  },
  {
   "cell_type": "code",
   "execution_count": 2,
   "id": "e767a0db",
   "metadata": {},
   "outputs": [],
   "source": [
    "books = books[['ISBN', 'Book-Title', 'Book-Author', 'Year-Of-Publication', 'Publisher']]\n",
    "books.rename(columns = {'Book-Title':'title', 'Book-Author':'author', 'Year-Of-Publication':'year', 'Publisher':'publisher'}, inplace=True)\n",
    "users.rename(columns = {'User-ID':'user_id', 'Location':'location', 'Age':'age'}, inplace=True)\n",
    "ratings.rename(columns = {'User-ID':'user_id', 'Book-Rating':'rating'}, inplace=True)"
   ]
  },
  {
   "cell_type": "code",
   "execution_count": 3,
   "id": "e44544ff",
   "metadata": {},
   "outputs": [
    {
     "data": {
      "text/html": [
       "<div>\n",
       "<style scoped>\n",
       "    .dataframe tbody tr th:only-of-type {\n",
       "        vertical-align: middle;\n",
       "    }\n",
       "\n",
       "    .dataframe tbody tr th {\n",
       "        vertical-align: top;\n",
       "    }\n",
       "\n",
       "    .dataframe thead th {\n",
       "        text-align: right;\n",
       "    }\n",
       "</style>\n",
       "<table border=\"1\" class=\"dataframe\">\n",
       "  <thead>\n",
       "    <tr style=\"text-align: right;\">\n",
       "      <th></th>\n",
       "      <th>ISBN</th>\n",
       "      <th>title</th>\n",
       "      <th>author</th>\n",
       "      <th>year</th>\n",
       "      <th>publisher</th>\n",
       "    </tr>\n",
       "  </thead>\n",
       "  <tbody>\n",
       "    <tr>\n",
       "      <th>0</th>\n",
       "      <td>0195153448</td>\n",
       "      <td>Classical Mythology</td>\n",
       "      <td>Mark P. O. Morford</td>\n",
       "      <td>2002</td>\n",
       "      <td>Oxford University Press</td>\n",
       "    </tr>\n",
       "    <tr>\n",
       "      <th>1</th>\n",
       "      <td>0002005018</td>\n",
       "      <td>Clara Callan</td>\n",
       "      <td>Richard Bruce Wright</td>\n",
       "      <td>2001</td>\n",
       "      <td>HarperFlamingo Canada</td>\n",
       "    </tr>\n",
       "    <tr>\n",
       "      <th>2</th>\n",
       "      <td>0060973129</td>\n",
       "      <td>Decision in Normandy</td>\n",
       "      <td>Carlo D'Este</td>\n",
       "      <td>1991</td>\n",
       "      <td>HarperPerennial</td>\n",
       "    </tr>\n",
       "    <tr>\n",
       "      <th>3</th>\n",
       "      <td>0374157065</td>\n",
       "      <td>Flu: The Story of the Great Influenza Pandemic...</td>\n",
       "      <td>Gina Bari Kolata</td>\n",
       "      <td>1999</td>\n",
       "      <td>Farrar Straus Giroux</td>\n",
       "    </tr>\n",
       "    <tr>\n",
       "      <th>4</th>\n",
       "      <td>0393045218</td>\n",
       "      <td>The Mummies of Urumchi</td>\n",
       "      <td>E. J. W. Barber</td>\n",
       "      <td>1999</td>\n",
       "      <td>W. W. Norton &amp;amp; Company</td>\n",
       "    </tr>\n",
       "  </tbody>\n",
       "</table>\n",
       "</div>"
      ],
      "text/plain": [
       "         ISBN                                              title  \\\n",
       "0  0195153448                                Classical Mythology   \n",
       "1  0002005018                                       Clara Callan   \n",
       "2  0060973129                               Decision in Normandy   \n",
       "3  0374157065  Flu: The Story of the Great Influenza Pandemic...   \n",
       "4  0393045218                             The Mummies of Urumchi   \n",
       "\n",
       "                 author  year                   publisher  \n",
       "0    Mark P. O. Morford  2002     Oxford University Press  \n",
       "1  Richard Bruce Wright  2001       HarperFlamingo Canada  \n",
       "2          Carlo D'Este  1991             HarperPerennial  \n",
       "3      Gina Bari Kolata  1999        Farrar Straus Giroux  \n",
       "4       E. J. W. Barber  1999  W. W. Norton &amp; Company  "
      ]
     },
     "execution_count": 3,
     "metadata": {},
     "output_type": "execute_result"
    }
   ],
   "source": [
    "books.head()"
   ]
  },
  {
   "cell_type": "code",
   "execution_count": 4,
   "id": "b78b39ff",
   "metadata": {},
   "outputs": [
    {
     "data": {
      "text/html": [
       "<div>\n",
       "<style scoped>\n",
       "    .dataframe tbody tr th:only-of-type {\n",
       "        vertical-align: middle;\n",
       "    }\n",
       "\n",
       "    .dataframe tbody tr th {\n",
       "        vertical-align: top;\n",
       "    }\n",
       "\n",
       "    .dataframe thead th {\n",
       "        text-align: right;\n",
       "    }\n",
       "</style>\n",
       "<table border=\"1\" class=\"dataframe\">\n",
       "  <thead>\n",
       "    <tr style=\"text-align: right;\">\n",
       "      <th></th>\n",
       "      <th>user_id</th>\n",
       "      <th>location</th>\n",
       "      <th>age</th>\n",
       "    </tr>\n",
       "  </thead>\n",
       "  <tbody>\n",
       "    <tr>\n",
       "      <th>0</th>\n",
       "      <td>1</td>\n",
       "      <td>nyc, new york, usa</td>\n",
       "      <td>NaN</td>\n",
       "    </tr>\n",
       "    <tr>\n",
       "      <th>1</th>\n",
       "      <td>2</td>\n",
       "      <td>stockton, california, usa</td>\n",
       "      <td>18.0</td>\n",
       "    </tr>\n",
       "    <tr>\n",
       "      <th>2</th>\n",
       "      <td>3</td>\n",
       "      <td>moscow, yukon territory, russia</td>\n",
       "      <td>NaN</td>\n",
       "    </tr>\n",
       "    <tr>\n",
       "      <th>3</th>\n",
       "      <td>4</td>\n",
       "      <td>porto, v.n.gaia, portugal</td>\n",
       "      <td>17.0</td>\n",
       "    </tr>\n",
       "    <tr>\n",
       "      <th>4</th>\n",
       "      <td>5</td>\n",
       "      <td>farnborough, hants, united kingdom</td>\n",
       "      <td>NaN</td>\n",
       "    </tr>\n",
       "  </tbody>\n",
       "</table>\n",
       "</div>"
      ],
      "text/plain": [
       "   user_id                            location   age\n",
       "0        1                  nyc, new york, usa   NaN\n",
       "1        2           stockton, california, usa  18.0\n",
       "2        3     moscow, yukon territory, russia   NaN\n",
       "3        4           porto, v.n.gaia, portugal  17.0\n",
       "4        5  farnborough, hants, united kingdom   NaN"
      ]
     },
     "execution_count": 4,
     "metadata": {},
     "output_type": "execute_result"
    }
   ],
   "source": [
    "users.head()"
   ]
  },
  {
   "cell_type": "code",
   "execution_count": 5,
   "id": "1e4da0d1",
   "metadata": {},
   "outputs": [
    {
     "data": {
      "text/html": [
       "<div>\n",
       "<style scoped>\n",
       "    .dataframe tbody tr th:only-of-type {\n",
       "        vertical-align: middle;\n",
       "    }\n",
       "\n",
       "    .dataframe tbody tr th {\n",
       "        vertical-align: top;\n",
       "    }\n",
       "\n",
       "    .dataframe thead th {\n",
       "        text-align: right;\n",
       "    }\n",
       "</style>\n",
       "<table border=\"1\" class=\"dataframe\">\n",
       "  <thead>\n",
       "    <tr style=\"text-align: right;\">\n",
       "      <th></th>\n",
       "      <th>user_id</th>\n",
       "      <th>ISBN</th>\n",
       "      <th>rating</th>\n",
       "    </tr>\n",
       "  </thead>\n",
       "  <tbody>\n",
       "    <tr>\n",
       "      <th>0</th>\n",
       "      <td>276725</td>\n",
       "      <td>034545104X</td>\n",
       "      <td>0</td>\n",
       "    </tr>\n",
       "    <tr>\n",
       "      <th>1</th>\n",
       "      <td>276726</td>\n",
       "      <td>0155061224</td>\n",
       "      <td>5</td>\n",
       "    </tr>\n",
       "    <tr>\n",
       "      <th>2</th>\n",
       "      <td>276727</td>\n",
       "      <td>0446520802</td>\n",
       "      <td>0</td>\n",
       "    </tr>\n",
       "    <tr>\n",
       "      <th>3</th>\n",
       "      <td>276729</td>\n",
       "      <td>052165615X</td>\n",
       "      <td>3</td>\n",
       "    </tr>\n",
       "    <tr>\n",
       "      <th>4</th>\n",
       "      <td>276729</td>\n",
       "      <td>0521795028</td>\n",
       "      <td>6</td>\n",
       "    </tr>\n",
       "  </tbody>\n",
       "</table>\n",
       "</div>"
      ],
      "text/plain": [
       "   user_id        ISBN  rating\n",
       "0   276725  034545104X       0\n",
       "1   276726  0155061224       5\n",
       "2   276727  0446520802       0\n",
       "3   276729  052165615X       3\n",
       "4   276729  0521795028       6"
      ]
     },
     "execution_count": 5,
     "metadata": {},
     "output_type": "execute_result"
    }
   ],
   "source": [
    "ratings.head()"
   ]
  },
  {
   "cell_type": "markdown",
   "id": "2fc2a871",
   "metadata": {},
   "source": [
    "# Data Pre-processing"
   ]
  },
  {
   "cell_type": "markdown",
   "id": "fa6ffedf",
   "metadata": {},
   "source": [
    "To make our findings more valuable and insightful, we need to reduce the size of the dataframe. The reason for this is that the dataset contains info which is not valuable to our analysis, for example:\n",
    "\n",
    "- Users registered but did not make reviews\n",
    "- Users with only few reviews\n",
    "- Books that reviewed by limited users\n",
    "\n",
    "In this case, we will set the threshold to be 50. Only books with more than 50 reviews and users who has made more than 50 reviews will be kept in the dataset.\n",
    "\n",
    "\n",
    "    "
   ]
  },
  {
   "cell_type": "code",
   "execution_count": 6,
   "id": "77ee81f1",
   "metadata": {},
   "outputs": [
    {
     "data": {
      "text/html": [
       "<div>\n",
       "<style scoped>\n",
       "    .dataframe tbody tr th:only-of-type {\n",
       "        vertical-align: middle;\n",
       "    }\n",
       "\n",
       "    .dataframe tbody tr th {\n",
       "        vertical-align: top;\n",
       "    }\n",
       "\n",
       "    .dataframe thead th {\n",
       "        text-align: right;\n",
       "    }\n",
       "</style>\n",
       "<table border=\"1\" class=\"dataframe\">\n",
       "  <thead>\n",
       "    <tr style=\"text-align: right;\">\n",
       "      <th></th>\n",
       "      <th>user_id</th>\n",
       "      <th>ISBN</th>\n",
       "      <th>rating</th>\n",
       "    </tr>\n",
       "  </thead>\n",
       "  <tbody>\n",
       "    <tr>\n",
       "      <th>0</th>\n",
       "      <td>276847</td>\n",
       "      <td>0446364193</td>\n",
       "      <td>0</td>\n",
       "    </tr>\n",
       "    <tr>\n",
       "      <th>1</th>\n",
       "      <td>276925</td>\n",
       "      <td>002542730X</td>\n",
       "      <td>10</td>\n",
       "    </tr>\n",
       "    <tr>\n",
       "      <th>2</th>\n",
       "      <td>276925</td>\n",
       "      <td>0316666343</td>\n",
       "      <td>0</td>\n",
       "    </tr>\n",
       "    <tr>\n",
       "      <th>3</th>\n",
       "      <td>276925</td>\n",
       "      <td>0385504209</td>\n",
       "      <td>8</td>\n",
       "    </tr>\n",
       "    <tr>\n",
       "      <th>4</th>\n",
       "      <td>276925</td>\n",
       "      <td>0804106304</td>\n",
       "      <td>0</td>\n",
       "    </tr>\n",
       "    <tr>\n",
       "      <th>...</th>\n",
       "      <td>...</td>\n",
       "      <td>...</td>\n",
       "      <td>...</td>\n",
       "    </tr>\n",
       "    <tr>\n",
       "      <th>102015</th>\n",
       "      <td>276688</td>\n",
       "      <td>0553569155</td>\n",
       "      <td>0</td>\n",
       "    </tr>\n",
       "    <tr>\n",
       "      <th>102016</th>\n",
       "      <td>276688</td>\n",
       "      <td>0553575090</td>\n",
       "      <td>7</td>\n",
       "    </tr>\n",
       "    <tr>\n",
       "      <th>102017</th>\n",
       "      <td>276688</td>\n",
       "      <td>0553575104</td>\n",
       "      <td>6</td>\n",
       "    </tr>\n",
       "    <tr>\n",
       "      <th>102018</th>\n",
       "      <td>276688</td>\n",
       "      <td>0679751521</td>\n",
       "      <td>0</td>\n",
       "    </tr>\n",
       "    <tr>\n",
       "      <th>102019</th>\n",
       "      <td>276688</td>\n",
       "      <td>068484267X</td>\n",
       "      <td>0</td>\n",
       "    </tr>\n",
       "  </tbody>\n",
       "</table>\n",
       "<p>102020 rows × 3 columns</p>\n",
       "</div>"
      ],
      "text/plain": [
       "        user_id        ISBN  rating\n",
       "0        276847  0446364193       0\n",
       "1        276925  002542730X      10\n",
       "2        276925  0316666343       0\n",
       "3        276925  0385504209       8\n",
       "4        276925  0804106304       0\n",
       "...         ...         ...     ...\n",
       "102015   276688  0553569155       0\n",
       "102016   276688  0553575090       7\n",
       "102017   276688  0553575104       6\n",
       "102018   276688  0679751521       0\n",
       "102019   276688  068484267X       0\n",
       "\n",
       "[102020 rows x 3 columns]"
      ]
     },
     "execution_count": 6,
     "metadata": {},
     "output_type": "execute_result"
    }
   ],
   "source": [
    "thres = 50\n",
    "\n",
    "def pre_process(thres, col, df):\n",
    "    reviewc = df[col].value_counts()\n",
    "    new_df = df[df[col].isin(reviewc[reviewc >= thres].index)]\n",
    "    new_df = new_df.reset_index(drop=True)\n",
    "    return new_df\n",
    "\n",
    "ratings = pre_process(thres, 'user_id', ratings)\n",
    "ratings = pre_process(thres, 'ISBN', ratings)\n",
    "ratings"
   ]
  },
  {
   "cell_type": "markdown",
   "id": "89b3c33e",
   "metadata": {},
   "source": [
    "After this we will merge the ratings dataset with books, so we can find the ratings of each books from the combined datset.\n",
    "There are rows with NaN values, in this case we will drop them for informative prediction. \n"
   ]
  },
  {
   "cell_type": "code",
   "execution_count": 7,
   "id": "4fcb1578",
   "metadata": {},
   "outputs": [],
   "source": [
    "rating_books = ratings.merge(books, how='left', on='ISBN')\n",
    "rating_books = rating_books[rating_books['title'].notna()]\n",
    "rating_books_users = rating_books.merge(users, how='left', on='user_id')\n",
    "rating_books_users = rating_books_users[rating_books_users['age'].notna()]\n",
    "rating_books_users = rating_books_users.reset_index(drop=True)"
   ]
  },
  {
   "cell_type": "code",
   "execution_count": 8,
   "id": "427e35f5",
   "metadata": {},
   "outputs": [
    {
     "data": {
      "text/html": [
       "<div>\n",
       "<style scoped>\n",
       "    .dataframe tbody tr th:only-of-type {\n",
       "        vertical-align: middle;\n",
       "    }\n",
       "\n",
       "    .dataframe tbody tr th {\n",
       "        vertical-align: top;\n",
       "    }\n",
       "\n",
       "    .dataframe thead th {\n",
       "        text-align: right;\n",
       "    }\n",
       "</style>\n",
       "<table border=\"1\" class=\"dataframe\">\n",
       "  <thead>\n",
       "    <tr style=\"text-align: right;\">\n",
       "      <th></th>\n",
       "      <th>user_id</th>\n",
       "      <th>ISBN</th>\n",
       "      <th>rating</th>\n",
       "      <th>title</th>\n",
       "      <th>author</th>\n",
       "      <th>year</th>\n",
       "      <th>publisher</th>\n",
       "      <th>location</th>\n",
       "      <th>age</th>\n",
       "    </tr>\n",
       "  </thead>\n",
       "  <tbody>\n",
       "    <tr>\n",
       "      <th>0</th>\n",
       "      <td>276847</td>\n",
       "      <td>0446364193</td>\n",
       "      <td>0</td>\n",
       "      <td>Along Came a Spider (Alex Cross Novels)</td>\n",
       "      <td>James Patterson</td>\n",
       "      <td>1993</td>\n",
       "      <td>Warner Books</td>\n",
       "      <td>köln, nordrhein-westfalen, germany</td>\n",
       "      <td>27.0</td>\n",
       "    </tr>\n",
       "    <tr>\n",
       "      <th>1</th>\n",
       "      <td>276925</td>\n",
       "      <td>002542730X</td>\n",
       "      <td>10</td>\n",
       "      <td>Politically Correct Bedtime Stories: Modern Ta...</td>\n",
       "      <td>James Finn Garner</td>\n",
       "      <td>1994</td>\n",
       "      <td>John Wiley &amp;amp; Sons Inc</td>\n",
       "      <td>barcelona, barcelona, spain</td>\n",
       "      <td>22.0</td>\n",
       "    </tr>\n",
       "    <tr>\n",
       "      <th>2</th>\n",
       "      <td>276925</td>\n",
       "      <td>0316666343</td>\n",
       "      <td>0</td>\n",
       "      <td>The Lovely Bones: A Novel</td>\n",
       "      <td>Alice Sebold</td>\n",
       "      <td>2002</td>\n",
       "      <td>Little, Brown</td>\n",
       "      <td>barcelona, barcelona, spain</td>\n",
       "      <td>22.0</td>\n",
       "    </tr>\n",
       "    <tr>\n",
       "      <th>3</th>\n",
       "      <td>276925</td>\n",
       "      <td>0385504209</td>\n",
       "      <td>8</td>\n",
       "      <td>The Da Vinci Code</td>\n",
       "      <td>Dan Brown</td>\n",
       "      <td>2003</td>\n",
       "      <td>Doubleday</td>\n",
       "      <td>barcelona, barcelona, spain</td>\n",
       "      <td>22.0</td>\n",
       "    </tr>\n",
       "    <tr>\n",
       "      <th>4</th>\n",
       "      <td>276925</td>\n",
       "      <td>0804106304</td>\n",
       "      <td>0</td>\n",
       "      <td>The Joy Luck Club</td>\n",
       "      <td>Amy Tan</td>\n",
       "      <td>1994</td>\n",
       "      <td>Prentice Hall (K-12)</td>\n",
       "      <td>barcelona, barcelona, spain</td>\n",
       "      <td>22.0</td>\n",
       "    </tr>\n",
       "    <tr>\n",
       "      <th>...</th>\n",
       "      <td>...</td>\n",
       "      <td>...</td>\n",
       "      <td>...</td>\n",
       "      <td>...</td>\n",
       "      <td>...</td>\n",
       "      <td>...</td>\n",
       "      <td>...</td>\n",
       "      <td>...</td>\n",
       "      <td>...</td>\n",
       "    </tr>\n",
       "    <tr>\n",
       "      <th>78024</th>\n",
       "      <td>276680</td>\n",
       "      <td>0446670251</td>\n",
       "      <td>0</td>\n",
       "      <td>The Virgin Suicides</td>\n",
       "      <td>Jeffrey Eugenides</td>\n",
       "      <td>1994</td>\n",
       "      <td>Warner Books</td>\n",
       "      <td>hopewell junction, new york, usa</td>\n",
       "      <td>55.0</td>\n",
       "    </tr>\n",
       "    <tr>\n",
       "      <th>78025</th>\n",
       "      <td>276680</td>\n",
       "      <td>0452283205</td>\n",
       "      <td>7</td>\n",
       "      <td>Falling Angels</td>\n",
       "      <td>Tracy Chevalier</td>\n",
       "      <td>2002</td>\n",
       "      <td>Plume Books</td>\n",
       "      <td>hopewell junction, new york, usa</td>\n",
       "      <td>55.0</td>\n",
       "    </tr>\n",
       "    <tr>\n",
       "      <th>78026</th>\n",
       "      <td>276680</td>\n",
       "      <td>0670030643</td>\n",
       "      <td>0</td>\n",
       "      <td>The Eyre Affair (Alex Awards (Awards))</td>\n",
       "      <td>Jasper Fforde</td>\n",
       "      <td>2002</td>\n",
       "      <td>Viking Books</td>\n",
       "      <td>hopewell junction, new york, usa</td>\n",
       "      <td>55.0</td>\n",
       "    </tr>\n",
       "    <tr>\n",
       "      <th>78027</th>\n",
       "      <td>276680</td>\n",
       "      <td>0679731725</td>\n",
       "      <td>0</td>\n",
       "      <td>The Remains of the Day (Vintage International)</td>\n",
       "      <td>Kazuo Ishiguro</td>\n",
       "      <td>1993</td>\n",
       "      <td>Vintage Books USA</td>\n",
       "      <td>hopewell junction, new york, usa</td>\n",
       "      <td>55.0</td>\n",
       "    </tr>\n",
       "    <tr>\n",
       "      <th>78028</th>\n",
       "      <td>276680</td>\n",
       "      <td>0743203631</td>\n",
       "      <td>7</td>\n",
       "      <td>Gap Creek: The Story Of A Marriage</td>\n",
       "      <td>Robert Morgan</td>\n",
       "      <td>2000</td>\n",
       "      <td>Touchstone</td>\n",
       "      <td>hopewell junction, new york, usa</td>\n",
       "      <td>55.0</td>\n",
       "    </tr>\n",
       "  </tbody>\n",
       "</table>\n",
       "<p>78029 rows × 9 columns</p>\n",
       "</div>"
      ],
      "text/plain": [
       "       user_id        ISBN  rating  \\\n",
       "0       276847  0446364193       0   \n",
       "1       276925  002542730X      10   \n",
       "2       276925  0316666343       0   \n",
       "3       276925  0385504209       8   \n",
       "4       276925  0804106304       0   \n",
       "...        ...         ...     ...   \n",
       "78024   276680  0446670251       0   \n",
       "78025   276680  0452283205       7   \n",
       "78026   276680  0670030643       0   \n",
       "78027   276680  0679731725       0   \n",
       "78028   276680  0743203631       7   \n",
       "\n",
       "                                                   title             author  \\\n",
       "0                Along Came a Spider (Alex Cross Novels)    James Patterson   \n",
       "1      Politically Correct Bedtime Stories: Modern Ta...  James Finn Garner   \n",
       "2                              The Lovely Bones: A Novel       Alice Sebold   \n",
       "3                                      The Da Vinci Code          Dan Brown   \n",
       "4                                      The Joy Luck Club            Amy Tan   \n",
       "...                                                  ...                ...   \n",
       "78024                                The Virgin Suicides  Jeffrey Eugenides   \n",
       "78025                                     Falling Angels    Tracy Chevalier   \n",
       "78026             The Eyre Affair (Alex Awards (Awards))      Jasper Fforde   \n",
       "78027     The Remains of the Day (Vintage International)     Kazuo Ishiguro   \n",
       "78028                 Gap Creek: The Story Of A Marriage      Robert Morgan   \n",
       "\n",
       "       year                  publisher                            location  \\\n",
       "0      1993               Warner Books  köln, nordrhein-westfalen, germany   \n",
       "1      1994  John Wiley &amp; Sons Inc         barcelona, barcelona, spain   \n",
       "2      2002              Little, Brown         barcelona, barcelona, spain   \n",
       "3      2003                  Doubleday         barcelona, barcelona, spain   \n",
       "4      1994       Prentice Hall (K-12)         barcelona, barcelona, spain   \n",
       "...     ...                        ...                                 ...   \n",
       "78024  1994               Warner Books    hopewell junction, new york, usa   \n",
       "78025  2002                Plume Books    hopewell junction, new york, usa   \n",
       "78026  2002               Viking Books    hopewell junction, new york, usa   \n",
       "78027  1993          Vintage Books USA    hopewell junction, new york, usa   \n",
       "78028  2000                 Touchstone    hopewell junction, new york, usa   \n",
       "\n",
       "        age  \n",
       "0      27.0  \n",
       "1      22.0  \n",
       "2      22.0  \n",
       "3      22.0  \n",
       "4      22.0  \n",
       "...     ...  \n",
       "78024  55.0  \n",
       "78025  55.0  \n",
       "78026  55.0  \n",
       "78027  55.0  \n",
       "78028  55.0  \n",
       "\n",
       "[78029 rows x 9 columns]"
      ]
     },
     "execution_count": 8,
     "metadata": {},
     "output_type": "execute_result"
    }
   ],
   "source": [
    "rating_books_users"
   ]
  },
  {
   "cell_type": "markdown",
   "id": "046f8a79",
   "metadata": {},
   "source": [
    "# Modelling"
   ]
  },
  {
   "cell_type": "markdown",
   "id": "04881176",
   "metadata": {},
   "source": [
    "Here we will implement Unsupervised Nearest Neighbors as the classificaiton algorithm. The main advantage of this is that it can be used for multiclass classification. Therefore if the data consists of more than two labels, Unsupervised Nearest Neighbors will be a suitable method.\n",
    "\n",
    "The steps for implementing is listed below:\n",
    "1. Convert our table to a 2-D matrix.\n",
    "2. Fill the missing values with zeros\n",
    "3. Transform the matrix dataframe into a scipy sparse matrix for efficiency\n",
    "4. Compute the nearest neigbours by fitting our matrix in knn model\n",
    "5. Metric is set to be 'Cosine' to calculate cosine similarity\n"
   ]
  },
  {
   "cell_type": "code",
   "execution_count": 9,
   "id": "e72de6d6",
   "metadata": {},
   "outputs": [
    {
     "data": {
      "text/plain": [
       "NearestNeighbors(algorithm='brute', metric='cosine', n_neighbors=6)"
      ]
     },
     "execution_count": 9,
     "metadata": {},
     "output_type": "execute_result"
    }
   ],
   "source": [
    "pivot = rating_books_users.pivot_table(columns='user_id', index='title', values=\"rating\").fillna(0)\n",
    "from scipy.sparse import csr_matrix\n",
    "pivot_matrix = csr_matrix(pivot)\n",
    "from sklearn.neighbors import NearestNeighbors\n",
    "knn = NearestNeighbors(n_neighbors=6, metric = 'cosine', algorithm = 'brute')\n",
    "knn.fit(pivot_matrix)"
   ]
  },
  {
   "cell_type": "markdown",
   "id": "f956355a",
   "metadata": {},
   "source": [
    "# Visualization"
   ]
  },
  {
   "cell_type": "markdown",
   "id": "3c3e3a2a",
   "metadata": {},
   "source": [
    "After implementing the model, we will do the following to visualize our findings.\n",
    "1. function for book recommendation\n",
    "- user can type in the book they read, and the function will return the recommendations.\n",
    "2. Graphs for visualization"
   ]
  },
  {
   "cell_type": "code",
   "execution_count": 10,
   "id": "baba00d3",
   "metadata": {},
   "outputs": [
    {
     "name": "stdout",
     "output_type": "stream",
     "text": [
      "Index(['The Two Towers (The Lord of the Rings, Part 2)',\n",
      "       'The Return of the King (The Lord of the Rings, Part 3)',\n",
      "       'The Fellowship of the Ring (The Lord of the Rings, Part 1)',\n",
      "       'The Hobbit : The Enchanting Prelude to The Lord of the Rings',\n",
      "       'About a Boy (Movie Tie-In)', 'Dragonfly in Amber'],\n",
      "      dtype='object', name='title')\n"
     ]
    }
   ],
   "source": [
    "def book_recommend(bkname):\n",
    "    idx = pivot.index.get_loc(bkname)\n",
    "    distances, suggestions = knn.kneighbors(pivot.iloc[idx, :].values.reshape(1, -1))\n",
    "    for i in range(len(suggestions)):\n",
    "        print(pivot.index[suggestions[i]])\n",
    "        \n",
    "book_recommend('The Two Towers (The Lord of the Rings, Part 2)')       "
   ]
  },
  {
   "cell_type": "code",
   "execution_count": 11,
   "id": "1ea3da79",
   "metadata": {},
   "outputs": [],
   "source": [
    "def get_list_distance(bkname):\n",
    "    lst = []\n",
    "    lst_book = []\n",
    "    idx = pivot.index.get_loc(bkname)\n",
    "    distances, suggestions = knn.kneighbors(pivot.iloc[idx, :].values.reshape(1, -1))\n",
    "    for i in range(len(suggestions)):\n",
    "        lst.append(pivot.index[suggestions[i]])\n",
    "    for j in range(len(lst[0])):\n",
    "        if j != 0:\n",
    "            lst_book.append(lst[0][j])\n",
    "    return lst_book, distances\n",
    "        \n",
    "lst_book, distances = get_list_distance('The Two Towers (The Lord of the Rings, Part 2)')\n"
   ]
  },
  {
   "cell_type": "code",
   "execution_count": 18,
   "id": "97ed299e",
   "metadata": {},
   "outputs": [
    {
     "data": {
      "text/plain": [
       "Text(0, 0.5, 'Book title')"
      ]
     },
     "execution_count": 18,
     "metadata": {},
     "output_type": "execute_result"
    },
    {
     "data": {
      "image/png": "[encoded data removed]",
      "text/plain": [
       "<Figure size 1080x576 with 1 Axes>"
      ]
     },
     "metadata": {
      "needs_background": "light"
     },
     "output_type": "display_data"
    }
   ],
   "source": [
    "import matplotlib.pyplot as plt\n",
    "plt.figure(figsize=(15, 8))\n",
    "plt.barh(lst_book, distances[0][1:], height = 0.5, color=['brown', 'brown', 'brown', '#000080', '#000080'])\n",
    "plt.title('Book recommendation',  fontsize=16,  y=1.08)\n",
    "plt.xlabel('Distance from inquired book', fontsize=13, labelpad=20)\n",
    "plt.ylabel('Book title', fontsize=11, labelpad=20)"
   ]
  },
  {
   "cell_type": "markdown",
   "id": "229a50f7",
   "metadata": {},
   "source": [
    "<b>The data visualization chart will be shown in the ppt using tableau.<b>"
   ]
  },
  {
   "cell_type": "code",
   "execution_count": 13,
   "id": "772058de",
   "metadata": {},
   "outputs": [],
   "source": [
    "def get_df(lst_book, distances):\n",
    "    distances = distances.reshape(-1)\n",
    "    distances = distances[1:]\n",
    "    d = {\"Title\": lst_book, \"Distances from New Point\": distances}\n",
    "    df = pd.DataFrame(d)\n",
    "    return df\n",
    "\n",
    "df = get_df(lst_book, distances)\n",
    "df.to_excel('distance.xlsx', index = False)"
   ]
  },
  {
   "cell_type": "code",
   "execution_count": 25,
   "id": "0720374a",
   "metadata": {},
   "outputs": [],
   "source": [
    "rings = rating_books_users.loc[rating_books_users['title'].str.contains('lord of the rings', case=False)]\n",
    "rings.to_csv('ring.csv', index = False)\n"
   ]
  },
  {
   "cell_type": "code",
   "execution_count": 29,
   "id": "dc7b0554",
   "metadata": {},
   "outputs": [
    {
     "data": {
      "text/html": [
       "<div>\n",
       "<style scoped>\n",
       "    .dataframe tbody tr th:only-of-type {\n",
       "        vertical-align: middle;\n",
       "    }\n",
       "\n",
       "    .dataframe tbody tr th {\n",
       "        vertical-align: top;\n",
       "    }\n",
       "\n",
       "    .dataframe thead th {\n",
       "        text-align: right;\n",
       "    }\n",
       "</style>\n",
       "<table border=\"1\" class=\"dataframe\">\n",
       "  <thead>\n",
       "    <tr style=\"text-align: right;\">\n",
       "      <th></th>\n",
       "      <th>user_id</th>\n",
       "      <th>rating</th>\n",
       "      <th>age</th>\n",
       "    </tr>\n",
       "  </thead>\n",
       "  <tbody>\n",
       "    <tr>\n",
       "      <th>count</th>\n",
       "      <td>397.000000</td>\n",
       "      <td>397.000000</td>\n",
       "      <td>397.000000</td>\n",
       "    </tr>\n",
       "    <tr>\n",
       "      <th>mean</th>\n",
       "      <td>141697.687657</td>\n",
       "      <td>3.949622</td>\n",
       "      <td>33.317380</td>\n",
       "    </tr>\n",
       "    <tr>\n",
       "      <th>std</th>\n",
       "      <td>77369.243041</td>\n",
       "      <td>4.678284</td>\n",
       "      <td>11.449274</td>\n",
       "    </tr>\n",
       "    <tr>\n",
       "      <th>min</th>\n",
       "      <td>638.000000</td>\n",
       "      <td>0.000000</td>\n",
       "      <td>13.000000</td>\n",
       "    </tr>\n",
       "    <tr>\n",
       "      <th>25%</th>\n",
       "      <td>69721.000000</td>\n",
       "      <td>0.000000</td>\n",
       "      <td>26.000000</td>\n",
       "    </tr>\n",
       "    <tr>\n",
       "      <th>50%</th>\n",
       "      <td>138995.000000</td>\n",
       "      <td>0.000000</td>\n",
       "      <td>32.000000</td>\n",
       "    </tr>\n",
       "    <tr>\n",
       "      <th>75%</th>\n",
       "      <td>208406.000000</td>\n",
       "      <td>10.000000</td>\n",
       "      <td>39.000000</td>\n",
       "    </tr>\n",
       "    <tr>\n",
       "      <th>max</th>\n",
       "      <td>277427.000000</td>\n",
       "      <td>10.000000</td>\n",
       "      <td>116.000000</td>\n",
       "    </tr>\n",
       "  </tbody>\n",
       "</table>\n",
       "</div>"
      ],
      "text/plain": [
       "             user_id      rating         age\n",
       "count     397.000000  397.000000  397.000000\n",
       "mean   141697.687657    3.949622   33.317380\n",
       "std     77369.243041    4.678284   11.449274\n",
       "min       638.000000    0.000000   13.000000\n",
       "25%     69721.000000    0.000000   26.000000\n",
       "50%    138995.000000    0.000000   32.000000\n",
       "75%    208406.000000   10.000000   39.000000\n",
       "max    277427.000000   10.000000  116.000000"
      ]
     },
     "execution_count": 29,
     "metadata": {},
     "output_type": "execute_result"
    }
   ],
   "source": [
    "rings['age'] = rings['age'].astype(int)\n",
    "rings.describe()"
   ]
  },
  {
   "cell_type": "code",
   "execution_count": 64,
   "id": "5ac361a7",
   "metadata": {},
   "outputs": [
    {
     "data": {
      "text/plain": [
       "Text(0.5, 0, 'Age group')"
      ]
     },
     "execution_count": 64,
     "metadata": {},
     "output_type": "execute_result"
    },
    {
     "data": {
      "image/png": "[encoded data removed]",
      "text/plain": [
       "<Figure size 432x288 with 1 Axes>"
      ]
     },
     "metadata": {
      "needs_background": "light"
     },
     "output_type": "display_data"
    }
   ],
   "source": [
    "bins = [10, 19, 29, 39, 49, 59,69]\n",
    "labels = [10,20,30,40,50,60]\n",
    "rings['binned'] = pd.cut(rings['age'], bins = bins, labels=labels)\n",
    "df_ring = rings.groupby(['binned']).size()\n",
    "df_ring.plot(kind = 'bar', color=['#000080', 'brown', 'brown', '#000080', '#000080'])\n",
    "plt.title('Lord of the rings readers by age')\n",
    "plt.ylabel('Count')\n",
    "plt.xlabel('Age group', labelpad=20)"
   ]
  }
 ],
 "metadata": {
  "kernelspec": {
   "display_name": "Python 3",
   "language": "python",
   "name": "python3"
  },
  "language_info": {
   "codemirror_mode": {
    "name": "ipython",
    "version": 3
   },
   "file_extension": ".py",
   "mimetype": "text/x-python",
   "name": "python",
   "nbconvert_exporter": "python",
   "pygments_lexer": "ipython3",
   "version": "3.8.8"
  }
 },
 "nbformat": 4,
 "nbformat_minor": 5
}
